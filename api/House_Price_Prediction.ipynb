{
 "cells": [
  {
   "cell_type": "code",
   "execution_count": 37,
   "id": "4f056695-6408-4bda-898e-d7bcee836a44",
   "metadata": {},
   "outputs": [],
   "source": [
    "# Import the NumPy and Pandas libraries, which are commonly used for numerical operations and data manipulation\n",
    "import numpy as np # linear algebra\n",
    "import pandas as pd # data processing, CSV file I/O (e.g. pd.read_csv)\n",
    "\n",
    "#  Import the os module, which provides a way of using operating system-dependent functionality\n",
    "import os\n",
    "\n",
    "# Use the os.walk function to iterate over the directory tree rooted at the current working director\n",
    "# The function returns a tuple containing the current directory name (dirname), a list of subdirectories (_), and a list of filenames (filenames).\n",
    "for dirname, _, filenames in os.walk(''):\n",
    "    for filename in filenames:  #iterate through the list of filenames obtained from the os.walk function.\n",
    "        full_path = os.path.join(dirname, filename)\n",
    "        print(full_path) "
   ]
  },
  {
   "cell_type": "code",
   "execution_count": 38,
   "id": "b1c74970-e8b0-49e0-b2b2-58838706d72d",
   "metadata": {},
   "outputs": [],
   "source": [
    "# Reads the data from the CSV file into a Pandas DataFrame named df.\n",
    "df=pd.read_csv('housing_price_dataset.csv')\n",
    "dff=df.copy()"
   ]
  },
  {
   "cell_type": "code",
   "execution_count": 39,
   "id": "344492db-9ec8-47fc-b7b5-2973a70418d5",
   "metadata": {},
   "outputs": [
    {
     "name": "stdout",
     "output_type": "stream",
     "text": [
      "       SquareFeet  Bedrooms  Bathrooms Neighborhood  YearBuilt          Price  \\\n",
      "0            2126         4          1        Rural       1969  215355.283618   \n",
      "1            2459         3          2        Rural       1980  195014.221626   \n",
      "2            1860         2          1       Suburb       1970  306891.012076   \n",
      "3            2294         2          1        Urban       1996  206786.787153   \n",
      "4            2130         5          2       Suburb       2001  272436.239065   \n",
      "...           ...       ...        ...          ...        ...            ...   \n",
      "49995        1282         5          3        Rural       1975  100080.865895   \n",
      "49996        2854         2          2       Suburb       1988  374507.656727   \n",
      "49997        2979         5          3       Suburb       1962  384110.555590   \n",
      "49998        2596         5          2        Rural       1984  380512.685957   \n",
      "49999        1572         5          3        Rural       2011  221618.583218   \n",
      "\n",
      "       Rural  Suburb  Urban  \n",
      "0          1       0      0  \n",
      "1          1       0      0  \n",
      "2          0       1      0  \n",
      "3          0       0      1  \n",
      "4          0       1      0  \n",
      "...      ...     ...    ...  \n",
      "49995      1       0      0  \n",
      "49996      0       1      0  \n",
      "49997      0       1      0  \n",
      "49998      1       0      0  \n",
      "49999      1       0      0  \n",
      "\n",
      "[50000 rows x 9 columns]\n"
     ]
    }
   ],
   "source": [
    "# One-hot encoding is the conversion of categorical information into a format that may be fed into machine learning algorithms to improve prediction accuracy. \n",
    "\n",
    "# creates a new DataFrame (one_hot_encoded) by applying one-hot encoding to the 'Neighborhood' column.\n",
    "one_hot_encoded = pd.get_dummies(df['Neighborhood']) #The pd.get_dummies function in the Pandas library is used for one-hot encoding categorical variables. \n",
    "one_hot_encoded= one_hot_encoded.astype(int) # converts the values in the one-hot encoded DataFrame to integers.\n",
    "df = pd.concat([df, one_hot_encoded], axis=1) # concatenates df with one_hot_encoded along the columns (axis=1). \n",
    "print(df)"
   ]
  },
  {
   "cell_type": "code",
   "execution_count": 40,
   "id": "be1aee8a-98b3-43ef-b2bc-1786fd2cea36",
   "metadata": {},
   "outputs": [
    {
     "name": "stdout",
     "output_type": "stream",
     "text": [
      "       SquareFeet  Bedrooms  Bathrooms  YearBuilt          Price  Rural  \\\n",
      "0            2126         4          1       1969  215355.283618      1   \n",
      "1            2459         3          2       1980  195014.221626      1   \n",
      "2            1860         2          1       1970  306891.012076      0   \n",
      "3            2294         2          1       1996  206786.787153      0   \n",
      "4            2130         5          2       2001  272436.239065      0   \n",
      "...           ...       ...        ...        ...            ...    ...   \n",
      "49995        1282         5          3       1975  100080.865895      1   \n",
      "49996        2854         2          2       1988  374507.656727      0   \n",
      "49997        2979         5          3       1962  384110.555590      0   \n",
      "49998        2596         5          2       1984  380512.685957      1   \n",
      "49999        1572         5          3       2011  221618.583218      1   \n",
      "\n",
      "       Suburb  Urban  \n",
      "0           0      0  \n",
      "1           0      0  \n",
      "2           1      0  \n",
      "3           0      1  \n",
      "4           1      0  \n",
      "...       ...    ...  \n",
      "49995       0      0  \n",
      "49996       1      0  \n",
      "49997       1      0  \n",
      "49998       0      0  \n",
      "49999       0      0  \n",
      "\n",
      "[50000 rows x 8 columns]\n"
     ]
    }
   ],
   "source": [
    "# remove the 'Neighborhood' column from the DataFrame df.\n",
    "df=df.drop(columns='Neighborhood')\n",
    "print(df)"
   ]
  },
  {
   "cell_type": "code",
   "execution_count": 41,
   "id": "37bebef1-b4fa-4b2b-8820-22f6fc1b436f",
   "metadata": {},
   "outputs": [],
   "source": [
    "# using the train_test_split function from scikit-learn to split the dataset into training and testing sets\n",
    "from sklearn.model_selection import train_test_split\n",
    "\n",
    "y = df['Price'] # extracts variable 'Price' from your df and assigns it to the variable y.\n",
    "X = df.drop(columns='Price') # creates a DataFrame X containing the features by dropping the 'Price' column from df.\n",
    "\n",
    "# train_test_split splits the dataset into training and testing sets. \n",
    "#    The parameter test_size=0.2 specifies that 20% of the data will be used for testing, \n",
    "#    and random_state=42 sets the random seed for reproducibility.\n",
    "X_train, X_test, y_train, y_test = train_test_split(X, y, test_size=0.2, random_state=42)"
   ]
  },
  {
   "cell_type": "code",
   "execution_count": 42,
   "id": "9ca5a112-a5ca-4cda-983a-7bf15d1641ef",
   "metadata": {},
   "outputs": [
    {
     "data": {
      "text/plain": [
       "(40000, 7)"
      ]
     },
     "execution_count": 42,
     "metadata": {},
     "output_type": "execute_result"
    }
   ],
   "source": [
    "#  indicating the number of rows and columns in training feature set X.\n",
    "X_train.shape"
   ]
  },
  {
   "cell_type": "code",
   "execution_count": 43,
   "id": "13108a1c-1bb0-4f61-bbe4-d78983d12707",
   "metadata": {},
   "outputs": [
    {
     "data": {
      "text/plain": [
       "(40000,)"
      ]
     },
     "execution_count": 43,
     "metadata": {},
     "output_type": "execute_result"
    }
   ],
   "source": [
    "y_train.shape"
   ]
  },
  {
   "cell_type": "code",
   "execution_count": 44,
   "id": "de6b5415-f2a2-4161-b03a-fa57e88b1936",
   "metadata": {},
   "outputs": [
    {
     "name": "stdout",
     "output_type": "stream",
     "text": [
      "RMSE: 49470.04862622066\n"
     ]
    }
   ],
   "source": [
    "# using the XGBoost library to train a regression model and evaluate its performance on a test set.\n",
    "import xgboost as xgb\n",
    "from sklearn.metrics import mean_squared_error # the mean_squared_error function from scikit-learn\n",
    "\n",
    "xg_reg = xgb.XGBRegressor(objective ='reg:squarederror',  # Specifies that the objective is to minimize the mean squared error for regression\n",
    "                          colsample_bytree = 0.3, # Fraction of features to be randomly sampled for building each tree.\n",
    "                          learning_rate = 0.1, # Step size shrinkage used to prevent overfitting.\n",
    "                          max_depth = 5, # Maximum depth of a tree.\n",
    "                          alpha = 10, # L1 regularization term on weights\n",
    "                          n_estimators = 100) # Number of boosting rounds.\n",
    "\n",
    "# train the XGBoost model using the training set\n",
    "xg_reg.fit(X_train, y_train)\n",
    "\n",
    "# make predictions on the test set\n",
    "y_pred = xg_reg.predict(X_test)\n",
    "\n",
    "# Evaluate the model's performance using the root mean squared error (RMSE)\n",
    "# The mean_squared_error function(part of the scikit-learn library) calculates the mean squared difference between each true and predicted value. \n",
    "rmse = mean_squared_error(y_test, y_pred,squared=False)\n",
    "print(\"RMSE:\", rmse)"
   ]
  },
  {
   "cell_type": "code",
   "execution_count": 45,
   "id": "9a37a436-ab35-4a22-a579-0c951d1271ba",
   "metadata": {},
   "outputs": [
    {
     "name": "stdout",
     "output_type": "stream",
     "text": [
      "Random Forest RMSE: 49432.73602639071\n"
     ]
    }
   ],
   "source": [
    "# using the scikit-learn library to create and train a Random Forest Regression model \n",
    "from sklearn.ensemble import RandomForestRegressor\n",
    "from sklearn.metrics import mean_squared_error\n",
    "\n",
    "# Create an instance of the RandomForestRegressor\n",
    "rf_reg = RandomForestRegressor(n_estimators=1000, max_depth=5, random_state=42)\n",
    "\n",
    "# Fit the model to the training set\n",
    "rf_reg.fit(X_train, y_train)\n",
    "\n",
    "# Predict on the test set\n",
    "y_pred_rf = rf_reg.predict(X_test)\n",
    "\n",
    "# Calculate and print the RMSE (Root Mean Squared Error)\n",
    "rmse_rf = mean_squared_error(y_test, y_pred_rf, squared=False)\n",
    "print(\"Random Forest RMSE:\", rmse_rf)"
   ]
  },
  {
   "cell_type": "code",
   "execution_count": 46,
   "id": "840433a4-9604-488c-baee-f9fc16fc3c65",
   "metadata": {},
   "outputs": [
    {
     "name": "stdout",
     "output_type": "stream",
     "text": [
      "[218573.92482078 129327.28142696 252282.38884532 ... 314612.0553523\n",
      " 195951.62254363 244693.63000187]\n"
     ]
    }
   ],
   "source": [
    "print(y_pred_rf)"
   ]
  },
  {
   "cell_type": "code",
   "execution_count": 47,
   "id": "4ad382fe-ee95-4c7d-bf39-49e32ccde949",
   "metadata": {},
   "outputs": [
    {
     "name": "stdout",
     "output_type": "stream",
     "text": [
      "       SquareFeet  Bedrooms  Bathrooms Neighborhood  YearBuilt          Price  \\\n",
      "0            2126         4          1        Rural       1969  215355.283618   \n",
      "1            2459         3          2        Rural       1980  195014.221626   \n",
      "2            1860         2          1       Suburb       1970  306891.012076   \n",
      "3            2294         2          1        Urban       1996  206786.787153   \n",
      "4            2130         5          2       Suburb       2001  272436.239065   \n",
      "...           ...       ...        ...          ...        ...            ...   \n",
      "49995        1282         5          3        Rural       1975  100080.865895   \n",
      "49996        2854         2          2       Suburb       1988  374507.656727   \n",
      "49997        2979         5          3       Suburb       1962  384110.555590   \n",
      "49998        2596         5          2        Rural       1984  380512.685957   \n",
      "49999        1572         5          3        Rural       2011  221618.583218   \n",
      "\n",
      "       Neighborhood_LabelEncoded  \n",
      "0                              0  \n",
      "1                              0  \n",
      "2                              1  \n",
      "3                              2  \n",
      "4                              1  \n",
      "...                          ...  \n",
      "49995                          0  \n",
      "49996                          1  \n",
      "49997                          1  \n",
      "49998                          0  \n",
      "49999                          0  \n",
      "\n",
      "[50000 rows x 7 columns]\n"
     ]
    }
   ],
   "source": [
    "# using the LabelEncoder from scikit-learn processing moduel to convert categorical labels into numerical values.\n",
    "from sklearn.preprocessing import LabelEncoder\n",
    "label_encoder = LabelEncoder() # # Create an instance of LabelEncoder\n",
    "\n",
    "# Use the fit_transform method to label encode the 'Neighborhood' column \n",
    "#     and create a new column 'Neighborhood_LabelEncoded' in your DataFrame (dff).\n",
    "dff['Neighborhood_LabelEncoded'] = label_encoder.fit_transform(dff['Neighborhood'])\n",
    "print(dff)"
   ]
  },
  {
   "cell_type": "code",
   "execution_count": 48,
   "id": "43375ad9-68ce-4eec-a6c3-4039ea8fb55e",
   "metadata": {},
   "outputs": [
    {
     "name": "stdout",
     "output_type": "stream",
     "text": [
      "       SquareFeet  Bedrooms  Bathrooms  YearBuilt          Price  \\\n",
      "0            2126         4          1       1969  215355.283618   \n",
      "1            2459         3          2       1980  195014.221626   \n",
      "2            1860         2          1       1970  306891.012076   \n",
      "3            2294         2          1       1996  206786.787153   \n",
      "4            2130         5          2       2001  272436.239065   \n",
      "...           ...       ...        ...        ...            ...   \n",
      "49995        1282         5          3       1975  100080.865895   \n",
      "49996        2854         2          2       1988  374507.656727   \n",
      "49997        2979         5          3       1962  384110.555590   \n",
      "49998        2596         5          2       1984  380512.685957   \n",
      "49999        1572         5          3       2011  221618.583218   \n",
      "\n",
      "       Neighborhood_LabelEncoded  \n",
      "0                              0  \n",
      "1                              0  \n",
      "2                              1  \n",
      "3                              2  \n",
      "4                              1  \n",
      "...                          ...  \n",
      "49995                          0  \n",
      "49996                          1  \n",
      "49997                          1  \n",
      "49998                          0  \n",
      "49999                          0  \n",
      "\n",
      "[50000 rows x 6 columns]\n"
     ]
    }
   ],
   "source": [
    "df=dff.copy()\n",
    "df=df.drop(columns='Neighborhood')\n",
    "print(df)"
   ]
  },
  {
   "cell_type": "code",
   "execution_count": 49,
   "id": "d53c2781-6ef9-4a39-a2bb-6a5c3412c77e",
   "metadata": {},
   "outputs": [],
   "source": [
    "from sklearn.model_selection import train_test_split\n",
    "y = df['Price']\n",
    "X = df.drop(columns='Price') \n",
    "X_train, X_test, y_train, y_test = train_test_split(X, y, test_size=0.2, random_state=42)"
   ]
  },
  {
   "cell_type": "code",
   "execution_count": 50,
   "id": "22af4516-2eeb-4aa9-83a6-1eebf79c0a3a",
   "metadata": {},
   "outputs": [
    {
     "name": "stdout",
     "output_type": "stream",
     "text": [
      "RMSE: 49996.93623584677\n"
     ]
    }
   ],
   "source": [
    "from sklearn.metrics import mean_squared_error\n",
    "\n",
    "xg_reg = xgb.XGBRegressor(objective ='reg:squarederror', colsample_bytree = 0.3, learning_rate = 0.1,\n",
    "                max_depth = 5, alpha = 10, n_estimators = 100)\n",
    "xg_reg.fit(X_train, y_train)\n",
    "\n",
    "\n",
    "y_pred = xg_reg.predict(X_test)\n",
    "\n",
    "rmse = mean_squared_error(y_test, y_pred,squared=False)\n",
    "print(\"RMSE:\", rmse)"
   ]
  },
  {
   "cell_type": "code",
   "execution_count": 51,
   "id": "667ba8d0-be7e-4f47-aca3-e636794642ff",
   "metadata": {},
   "outputs": [
    {
     "name": "stdout",
     "output_type": "stream",
     "text": [
      "Random Forest RMSE: 49432.852932768066\n"
     ]
    }
   ],
   "source": [
    "from sklearn.ensemble import RandomForestRegressor\n",
    "from sklearn.metrics import mean_squared_error\n",
    "\n",
    "# Create an instance of the RandomForestRegressor\n",
    "rf_reg = RandomForestRegressor(n_estimators=1000, max_depth=5, random_state=42)\n",
    "\n",
    "# Fit the model to the training set\n",
    "rf_reg.fit(X_train, y_train)\n",
    "\n",
    "# Predict on the test set\n",
    "y_pred_rf = rf_reg.predict(X_test)\n",
    "\n",
    "# Calculate and print the RMSE (Root Mean Squared Error)\n",
    "rmse_rf = mean_squared_error(y_test, y_pred_rf, squared=False)\n",
    "print(\"Random Forest RMSE:\", rmse_rf)"
   ]
  },
  {
   "cell_type": "code",
   "execution_count": 52,
   "id": "dcfba21f-5283-4682-8ea5-7b0d1a205961",
   "metadata": {},
   "outputs": [
    {
     "name": "stdout",
     "output_type": "stream",
     "text": [
      "XGBoost model saved to housePrediction.model\n"
     ]
    },
    {
     "name": "stderr",
     "output_type": "stream",
     "text": [
      "c:\\Users\\John Kim\\anaconda3\\Lib\\site-packages\\xgboost\\core.py:160: UserWarning: [19:37:48] WARNING: C:\\buildkite-agent\\builds\\buildkite-windows-cpu-autoscaling-group-i-0b3782d1791676daf-1\\xgboost\\xgboost-ci-windows\\src\\c_api\\c_api.cc:1240: Saving into deprecated binary model format, please consider using `json` or `ubj`. Model format will default to JSON in XGBoost 2.2 if not specified.\n",
      "  warnings.warn(smsg, UserWarning)\n"
     ]
    }
   ],
   "source": [
    "# Specify the path where you want to save the XGBoost model\n",
    "model_path = 'housePrediction.model'\n",
    "\n",
    "# Save the XGBoost model\n",
    "xg_reg.save_model(model_path)\n",
    "\n",
    "# Print a message indicating where the model is saved\n",
    "print(f\"XGBoost model saved to {model_path}\")\n"
   ]
  },
  {
   "cell_type": "code",
   "execution_count": 53,
   "id": "39412670",
   "metadata": {},
   "outputs": [
    {
     "name": "stdout",
     "output_type": "stream",
     "text": [
      "Random Forest model saved to housePredictionModel.joblib\n"
     ]
    }
   ],
   "source": [
    "import joblib\n",
    "\n",
    "# Specify the path where you want to save the Random Forest model\n",
    "rf_model_path = 'housePredictionModel.joblib'\n",
    "\n",
    "# Save the Random Forest model\n",
    "joblib.dump(rf_reg, rf_model_path)\n",
    "\n",
    "# Print a message indicating where the model is saved\n",
    "print(f\"Random Forest model saved to {rf_model_path}\")\n",
    "\n"
   ]
  }
 ],
 "metadata": {
  "kernelspec": {
   "display_name": "Python 3 (ipykernel)",
   "language": "python",
   "name": "python3"
  },
  "language_info": {
   "codemirror_mode": {
    "name": "ipython",
    "version": 3
   },
   "file_extension": ".py",
   "mimetype": "text/x-python",
   "name": "python",
   "nbconvert_exporter": "python",
   "pygments_lexer": "ipython3",
   "version": "3.11.5"
  }
 },
 "nbformat": 4,
 "nbformat_minor": 5
}
